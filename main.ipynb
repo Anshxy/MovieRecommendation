{
 "cells": [
  {
   "cell_type": "code",
   "execution_count": 45,
   "metadata": {},
   "outputs": [],
   "source": [
    "try:\n",
    "    import pandas as pd\n",
    "    \n",
    "except:\n",
    "    Exception(\"Import failed\")\n"
   ]
  },
  {
   "cell_type": "code",
   "execution_count": 75,
   "metadata": {},
   "outputs": [
    {
     "data": {
      "text/html": [
       "<div>\n",
       "<style scoped>\n",
       "    .dataframe tbody tr th:only-of-type {\n",
       "        vertical-align: middle;\n",
       "    }\n",
       "\n",
       "    .dataframe tbody tr th {\n",
       "        vertical-align: top;\n",
       "    }\n",
       "\n",
       "    .dataframe thead th {\n",
       "        text-align: right;\n",
       "    }\n",
       "</style>\n",
       "<table border=\"1\" class=\"dataframe\">\n",
       "  <thead>\n",
       "    <tr style=\"text-align: right;\">\n",
       "      <th></th>\n",
       "      <th>rating</th>\n",
       "      <th>num of ratings</th>\n",
       "    </tr>\n",
       "    <tr>\n",
       "      <th>title</th>\n",
       "      <th></th>\n",
       "      <th></th>\n",
       "    </tr>\n",
       "  </thead>\n",
       "  <tbody>\n",
       "    <tr>\n",
       "      <th>'71 (2014)</th>\n",
       "      <td>3.50000</td>\n",
       "      <td>1</td>\n",
       "    </tr>\n",
       "    <tr>\n",
       "      <th>'Hellboy': The Seeds of Creation (2004)</th>\n",
       "      <td>3.00000</td>\n",
       "      <td>1</td>\n",
       "    </tr>\n",
       "    <tr>\n",
       "      <th>'Round Midnight (1986)</th>\n",
       "      <td>2.50000</td>\n",
       "      <td>1</td>\n",
       "    </tr>\n",
       "    <tr>\n",
       "      <th>'Til There Was You (1997)</th>\n",
       "      <td>4.00000</td>\n",
       "      <td>3</td>\n",
       "    </tr>\n",
       "    <tr>\n",
       "      <th>'burbs, The (1989)</th>\n",
       "      <td>3.12500</td>\n",
       "      <td>20</td>\n",
       "    </tr>\n",
       "    <tr>\n",
       "      <th>'night Mother (1986)</th>\n",
       "      <td>3.00000</td>\n",
       "      <td>1</td>\n",
       "    </tr>\n",
       "    <tr>\n",
       "      <th>(500) Days of Summer (2009)</th>\n",
       "      <td>3.93243</td>\n",
       "      <td>37</td>\n",
       "    </tr>\n",
       "    <tr>\n",
       "      <th>*batteries not included (1987)</th>\n",
       "      <td>3.31818</td>\n",
       "      <td>11</td>\n",
       "    </tr>\n",
       "    <tr>\n",
       "      <th>...And Justice for All (1979)</th>\n",
       "      <td>3.65000</td>\n",
       "      <td>10</td>\n",
       "    </tr>\n",
       "    <tr>\n",
       "      <th>10 (1979)</th>\n",
       "      <td>2.00000</td>\n",
       "      <td>3</td>\n",
       "    </tr>\n",
       "  </tbody>\n",
       "</table>\n",
       "</div>"
      ],
      "text/plain": [
       "                                          rating  num of ratings\n",
       "title                                                           \n",
       "'71 (2014)                               3.50000               1\n",
       "'Hellboy': The Seeds of Creation (2004)  3.00000               1\n",
       "'Round Midnight (1986)                   2.50000               1\n",
       "'Til There Was You (1997)                4.00000               3\n",
       "'burbs, The (1989)                       3.12500              20\n",
       "'night Mother (1986)                     3.00000               1\n",
       "(500) Days of Summer (2009)              3.93243              37\n",
       "*batteries not included (1987)           3.31818              11\n",
       "...And Justice for All (1979)            3.65000              10\n",
       "10 (1979)                                2.00000               3"
      ]
     },
     "execution_count": 75,
     "metadata": {},
     "output_type": "execute_result"
    }
   ],
   "source": [
    "# Movie from the dataframe. \n",
    "#Example: Dracula: Dead and Loving It (1995)\n",
    "movie_name = input(\"Enter the movie name: \")\n",
    "\n",
    "movies = pd.read_csv('movies.csv')\n",
    "ratings = pd.read_csv('ratings.csv')\n",
    "\n",
    "#Merging the two dataframes based on 'movieId'\n",
    "data = pd.merge(movies, ratings, on='movieId', how='inner')\n",
    "\n",
    "#Rounding the mean of the ratings to 5 decimal places\n",
    "ratings = pd.DataFrame(round(data.groupby('title')['rating'].mean(), 5))\n",
    "\n",
    "#Creating a new coloumn for number of ratings\n",
    "ratings['num of ratings'] = pd.DataFrame(data.groupby('title')['rating'].count())\n",
    "\n",
    "ratings.head(10)\n",
    "\n"
   ]
  },
  {
   "cell_type": "code",
   "execution_count": null,
   "metadata": {},
   "outputs": [],
   "source": [
    "joined = data.pivot_table(index ='userId', columns ='title', values ='rating')\n",
    "\n",
    "user_ratings = joined[f'{movie_name}']\n",
    "\n",
    "corr = joined.corrwith(user_ratings)"
   ]
  },
  {
   "cell_type": "code",
   "execution_count": 77,
   "metadata": {},
   "outputs": [
    {
     "data": {
      "text/plain": [
       "'71 (2014)                                      NaN\n",
       "'Hellboy': The Seeds of Creation (2004)         NaN\n",
       "'Round Midnight (1986)                          NaN\n",
       "'Til There Was You (1997)                       NaN\n",
       "'burbs, The (1989)                              NaN\n",
       "'night Mother (1986)                            NaN\n",
       "(500) Days of Summer (2009)                0.240192\n",
       "*batteries not included (1987)                  NaN\n",
       "...And Justice for All (1979)              0.866025\n",
       "10 (1979)                                       NaN\n",
       "dtype: float64"
      ]
     },
     "execution_count": 77,
     "metadata": {},
     "output_type": "execute_result"
    }
   ],
   "source": [
    "corr.head(10)"
   ]
  },
  {
   "cell_type": "code",
   "execution_count": 78,
   "metadata": {},
   "outputs": [
    {
     "name": "stdout",
     "output_type": "stream",
     "text": [
      "You liked Dracula: Dead and Loving It (1995), so you might also like: \n",
      "\n",
      "Monty Python's Life of Brian (1979)\n",
      "\n",
      "Monsters, Inc. (2001)\n",
      "\n",
      "Stargate (1994)\n",
      "\n",
      "Total Recall (1990)\n",
      "\n",
      "Dark Knight, The (2008)\n",
      "\n",
      "Truman Show, The (1998)\n",
      "\n",
      "Net, The (1995)\n",
      "\n",
      "Star Trek: Generations (1994)\n",
      "\n",
      "Monty Python and the Holy Grail (1975)\n",
      "\n",
      "Beautiful Mind, A (2001)\n",
      "\n"
     ]
    }
   ],
   "source": [
    "CORR = pd.DataFrame(corr, columns =['Correlation'])\n",
    "CORR.dropna(inplace = True)\n",
    "\n",
    "\n",
    "related = CORR.join(ratings['num of ratings'])\n",
    "\n",
    "# Get movies with more than 100 ratings\n",
    "result = related[related['num of ratings']>100].sort_values('Correlation', ascending = False).head(10)\n",
    "\n",
    "# result.head(40)\n",
    "\n",
    "\n",
    "print(f\"You liked {movie_name}, so you might also like: \\n\")\n",
    "\n",
    "\n",
    "\n",
    "# Printing out 10 of the highest correlated movies\n",
    "for i in range(10):\n",
    "    print(f\"{result.index[-i-1]}\\n\")\n",
    "    \n"
   ]
  }
 ],
 "metadata": {
  "kernelspec": {
   "display_name": "Python 3.10.8 64-bit (microsoft store)",
   "language": "python",
   "name": "python3"
  },
  "language_info": {
   "codemirror_mode": {
    "name": "ipython",
    "version": 3
   },
   "file_extension": ".py",
   "mimetype": "text/x-python",
   "name": "python",
   "nbconvert_exporter": "python",
   "pygments_lexer": "ipython3",
   "version": "3.10.8"
  },
  "orig_nbformat": 4,
  "vscode": {
   "interpreter": {
    "hash": "4c5c4fa5934dbf65c18bcdade83abfb2703728fcc886ba19852fbd66d3b59c07"
   }
  }
 },
 "nbformat": 4,
 "nbformat_minor": 2
}
